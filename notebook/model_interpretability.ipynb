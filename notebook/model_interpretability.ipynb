{
 "cells": [
  {
   "cell_type": "code",
   "execution_count": null,
   "id": "8432aef5",
   "metadata": {},
   "outputs": [],
   "source": [
    "from transformers import AutoTokenizer, AutoModelForTokenClassification, pipeline\n",
    "import shap\n",
    "import torch\n",
    "import numpy as np\n",
    "from lime.lime_text import LimeTextExplainer\n",
    "\n",
    "# Load model and tokenizer\n",
    "model_path = \"../amharic_ner_model\"\n",
    "tokenizer = AutoTokenizer.from_pretrained(model_path)\n",
    "model = AutoModelForTokenClassification.from_pretrained(model_path)\n",
    "model.eval()\n",
    "\n",
    "# ✅ Wrap the model in a Hugging Face NER pipeline (required for SHAP)\n",
    "ner_pipeline = pipeline(\"ner\", model=model, tokenizer=tokenizer, aggregation_strategy=\"simple\")\n",
    "\n",
    "# ✅ Define a wrapper function to make SHAP-compatible output (just returns dummy probabilities for tokens)\n",
    "def shap_wrapper(texts):\n",
    "    # SHAP expects a classifier-style output (float array), so we simulate it\n",
    "    results = []\n",
    "    for text in texts:\n",
    "        output = ner_pipeline(text)\n",
    "        scores = [ent['score'] for ent in output]  # confidence scores of entities\n",
    "        avg_score = np.mean(scores) if scores else 0.0\n",
    "        results.append([avg_score])  # dummy binary-style classifier output\n",
    "    return np.array(results)\n",
    "\n",
    "# ✅ Now use SHAP on text inputs\n",
    "explainer = shap.Explainer(shap_wrapper, masker=shap.maskers.Text(tokenizer))\n",
    "shap_values = explainer([  # pass a list of texts\n",
    "    \"አቶ መሀመድ አበበ በኢትዮ ማርት የንግድ ባለሞያ ነው\"\n",
    "])\n",
    "\n",
    "# ✅ Visualize token attributions\n",
    "shap.plots.text(shap_values[0])\n"
   ]
  },
  {
   "cell_type": "markdown",
   "id": "9f0a713d",
   "metadata": {},
   "source": [
    "LIME"
   ]
  },
  {
   "cell_type": "code",
   "execution_count": null,
   "id": "866a4269",
   "metadata": {},
   "outputs": [],
   "source": [
    "from sklearn.pipeline import make_pipeline\n",
    "\n",
    "class DummyNER:\n",
    "    def __init__(self, pipeline):\n",
    "        self.pipeline = pipeline\n",
    "\n",
    "    def predict_proba(self, texts):\n",
    "        # Return dummy \"confidence\" for compatibility\n",
    "        results = []\n",
    "        for text in texts:\n",
    "            entities = self.pipeline(text)\n",
    "            avg_score = np.mean([e['score'] for e in entities]) if entities else 0\n",
    "            results.append([1 - avg_score, avg_score])\n",
    "        return np.array(results)\n",
    "\n",
    "lime_pipeline = make_pipeline(DummyNER(ner_pipeline))\n",
    "lime_explainer = LimeTextExplainer(class_names=[\"not-entity\", \"entity\"])\n",
    "exp = lime_explainer.explain_instance(\n",
    "    \"አቶ መሀመድ አበበ በኢትዮ ማርት የንግድ ባለሞያ ነው\",\n",
    "    lime_pipeline.predict_proba,\n",
    "    num_features=10\n",
    ")\n",
    "exp.show_in_notebook(text=True)\n"
   ]
  }
 ],
 "metadata": {
  "kernelspec": {
   "display_name": ".venv",
   "language": "python",
   "name": "python3"
  },
  "language_info": {
   "codemirror_mode": {
    "name": "ipython",
    "version": 3
   },
   "file_extension": ".py",
   "mimetype": "text/x-python",
   "name": "python",
   "nbconvert_exporter": "python",
   "pygments_lexer": "ipython3",
   "version": "3.12.3"
  }
 },
 "nbformat": 4,
 "nbformat_minor": 5
}

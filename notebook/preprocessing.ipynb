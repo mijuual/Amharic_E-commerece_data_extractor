{
 "cells": [
  {
   "cell_type": "code",
   "execution_count": null,
   "id": "3c5a347b",
   "metadata": {},
   "outputs": [],
   "source": [
    "import csv\n",
    "import re\n",
    "import string\n",
    "from datetime import datetime\n",
    "import pandas as pd"
   ]
  },
  {
   "cell_type": "markdown",
   "id": "d95148a9",
   "metadata": {},
   "source": [
    "Preprocessing "
   ]
  },
  {
   "cell_type": "code",
   "execution_count": null,
   "id": "ed6eb877",
   "metadata": {},
   "outputs": [],
   "source": [
    "def normalize_amharic(text):\n",
    "    text = text.replace('፡', ' ')\n",
    "    text = text.replace('።', '.')\n",
    "    text = text.replace('፣', ',')\n",
    "    text = text.replace('\\u1361', '')\n",
    "    text = re.sub(r'[፤፥፦፧]', '', text)\n",
    "    return text.strip()\n",
    "\n",
    "def clean_text(text):\n",
    "    text = re.sub(r'http\\S+', '', text)\n",
    "    text = re.sub(r'@\\w+', '', text)\n",
    "    text = re.sub(r'#\\w+', '', text)\n",
    "    text = re.sub(r'[^\\w\\s፡።፣\\u1200-\\u137F]', '', text)  # Keep Amharic and basic punctuation\n",
    "    return text.strip()\n",
    "\n",
    "def tokenize(text):\n",
    "    text = re.sub(r'([።፣.,])', r' \\1 ', text)  # space around punctuation\n",
    "    return text.split()\n",
    "\n",
    "#  Verbose Preprocessing Function (for inspection) ===\n",
    "\n",
    "def preprocess_messages(messages):\n",
    "    processed = []\n",
    "    for i, msg in enumerate(messages):\n",
    "        original = msg\n",
    "        norm = normalize_amharic(msg)\n",
    "        cleaned = clean_text(norm)\n",
    "        tokens = tokenize(cleaned)\n",
    "\n",
    "        # Display for inspection\n",
    "        print(f\"\\n📨 Original: {original}\")\n",
    "        print(f\"🧹 Normalized: {norm}\")\n",
    "        print(f\"🧼 Cleaned: {cleaned}\")\n",
    "        print(f\"🔠 Tokens: {tokens}\")\n",
    "\n",
    "        processed.append(tokens)\n",
    "    return processed"
   ]
  },
  {
   "cell_type": "markdown",
   "id": "7e335451",
   "metadata": {},
   "source": [
    "Save preprocessed data"
   ]
  },
  {
   "cell_type": "code",
   "execution_count": null,
   "id": "98d1e0da",
   "metadata": {},
   "outputs": [],
   "source": [
    "def load_and_preprocess_structured(csv_path):\n",
    "    structured_data = []\n",
    "    with open(csv_path, 'r', encoding='utf-8') as file:\n",
    "        reader = csv.DictReader(file)\n",
    "        for row in reader:\n",
    "            raw_msg = row['Message']\n",
    "            if not raw_msg:\n",
    "                continue\n",
    "\n",
    "            norm_msg = normalize_amharic(raw_msg)\n",
    "            cleaned_msg = clean_text(norm_msg)\n",
    "            tokens = tokenize(cleaned_msg)\n",
    "\n",
    "            structured_data.append({\n",
    "                'channel_title': row['Channel Title'],\n",
    "                'channel_username': row['Channel Username'],\n",
    "                'message_id': int(row['ID']),\n",
    "                'date': row['Date'],\n",
    "                'cleaned_text': cleaned_msg,\n",
    "                'tokens': tokens\n",
    "            })\n",
    "\n",
    "    return structured_data"
   ]
  },
  {
   "cell_type": "code",
   "execution_count": null,
   "id": "0df35f38",
   "metadata": {},
   "outputs": [],
   "source": [
    "csv_path = '../scripts/telegram_data.csv'  # Update this if needed\n",
    "structured_records = load_and_preprocess_structured(csv_path)\n",
    "\n",
    "# Preview structured output\n",
    "for record in structured_records[:5]:\n",
    "    print(record)"
   ]
  },
  {
   "cell_type": "code",
   "execution_count": null,
   "id": "f2ce3782",
   "metadata": {},
   "outputs": [],
   "source": [
    "sample_texts = [r['cleaned_text'] for r in structured_records[:3]]\n",
    "preprocess_messages(sample_texts)\n"
   ]
  },
  {
   "cell_type": "markdown",
   "id": "8c6f7d7c",
   "metadata": {},
   "source": [
    "CoNLL format labeling "
   ]
  },
  {
   "cell_type": "code",
   "execution_count": null,
   "id": "83bd76a6",
   "metadata": {},
   "outputs": [],
   "source": [
    "# Convert to DataFrame\n",
    "df = pd.DataFrame(structured_records)\n",
    "\n",
    "# Save to CSV\n",
    "df.to_csv('../data/structured_telegram_data.csv', index=False, encoding='utf-8')\n",
    "\n",
    "print(\"✅ Saved to structured_telegram_data.csv\")"
   ]
  },
  {
   "cell_type": "code",
   "execution_count": null,
   "id": "ea77b223",
   "metadata": {},
   "outputs": [],
   "source": [
    "# Pick 40 tokenized messages from the structured data\n",
    "sampled_token_lists = [record['tokens'] for record in structured_records[:40]]\n",
    "\n",
    "# Preview the first message in CoNLL-like format (default all labels = 'O')\n",
    "for token in sampled_token_lists[0]:\n",
    "    print(f\"{token}\\tO\")"
   ]
  },
  {
   "cell_type": "code",
   "execution_count": null,
   "id": "c843b616",
   "metadata": {},
   "outputs": [],
   "source": [
    "\n",
    "labeled_data = [\n",
    "    ('BARDEFU', 'B-Product'),\n",
    "    ('2', 'O'),\n",
    "    ('IN', 'O'),\n",
    "    ('1', 'O'),\n",
    "    ('Multi', 'O'),\n",
    "    ('purpose', 'O'),\n",
    "    ('juicer', 'B-Product'),\n",
    "    ('ኳሊቲ', 'B-LOC'),\n",
    "    ('የሆነ', 'O'),\n",
    "    ('የጁስ', 'O'),\n",
    "    ('መፍጫ', 'O'),\n",
    "    ('የጀርመን', 'I-Product'),\n",
    "    ('ቴክኖሎጂ', 'O'),\n",
    "    ('የሆነ', 'O'),\n",
    "    ('3', 'O'),\n",
    "    ('ሌትር', 'O'),\n",
    "    ('ጁስ', 'O'),\n",
    "    ('የሚፈጭ', 'O'),\n",
    "    ('ጆግ', 'O'),\n",
    "    ('ያለው', 'O'),\n",
    "    ('የብና', 'O'),\n",
    "    ('እና', 'O'),\n",
    "    ('የቅመማ', 'O'),\n",
    "    ('ቅመም', 'O'),\n",
    "    ('መፍጫ', 'O'),\n",
    "    ('ያለው', 'O'),\n",
    "    ('8000Watt', 'O'),\n",
    "    ('የሆነ', 'O'),\n",
    "    ('ምላጮቹ', 'O'),\n",
    "    ('ጠንካራ', 'O')\n",
    "]"
   ]
  },
  {
   "cell_type": "markdown",
   "id": "afe28157",
   "metadata": {},
   "source": [
    "save labeled data"
   ]
  },
  {
   "cell_type": "code",
   "execution_count": null,
   "id": "d05b7beb",
   "metadata": {},
   "outputs": [],
   "source": [
    "def save_to_conll_format(labeled_data, filepath):\n",
    "    with open(filepath, 'w', encoding='utf-8') as f:\n",
    "        for sentence in labeled_data:\n",
    "            for token, label in sentence:\n",
    "                f.write(f\"{token}\\t{label}\\n\")\n",
    "            f.write(\"\\n\")  # Separate messages\n",
    "\n",
    "# Wrap single sentence\n",
    "labeled_data = [labeled_data]\n",
    "\n",
    "# Save it\n",
    "save_to_conll_format(labeled_data, '../amharic_ner_dataset.conll')\n",
    "\n",
    "print(\"✅ Saved as amharic_ner_dataset.conll\")"
   ]
  }
 ],
 "metadata": {
  "kernelspec": {
   "display_name": ".venv",
   "language": "python",
   "name": "python3"
  },
  "language_info": {
   "codemirror_mode": {
    "name": "ipython",
    "version": 3
   },
   "file_extension": ".py",
   "mimetype": "text/x-python",
   "name": "python",
   "nbconvert_exporter": "python",
   "pygments_lexer": "ipython3",
   "version": "3.12.3"
  }
 },
 "nbformat": 4,
 "nbformat_minor": 5
}
